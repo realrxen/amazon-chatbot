{
 "cells": [
  {
   "cell_type": "code",
   "execution_count": 2,
   "id": "6da556ab",
   "metadata": {},
   "outputs": [
    {
     "name": "stdout",
     "output_type": "stream",
     "text": [
      "=============== LIFE_ARTS ===============\n",
      "=============== CULTURE ===============\n",
      "=============== SCIENCE ===============\n",
      "=============== STACKOVERFLOW ===============\n",
      "=============== TECHNOLOGY ===============\n"
     ]
    }
   ],
   "source": [
    "import pandas as pd\n",
    "import json\n",
    "import jieba\n",
    "from jieba.analyse import *\n",
    "\n",
    "data = pd.read_csv(\"./mydata1.csv\")\n",
    "data[\"qa\"] = data['question'] + \"&\" +'\\n'+ data['answer']\n",
    "questions = data[\"qa\"].values\n",
    "tags = data[\"tag\"].unique().tolist()\n",
    "my_dict = {}\n",
    "testj = open('./testintents.json',encoding=\"utf-8\").read()\n",
    "intents = json.loads(testj)\n",
    "\n",
    "tfidf = jieba.analyse.extract_tags\n",
    "def getKeyWords(text):\n",
    "    sentence = \"\"\n",
    "    keywords = tfidf(text, topK=10, withWeight=True)\n",
    "    if len(keywords)>5: \n",
    "        for item in keywords:\n",
    "            sentence = sentence + item[0]+\" \"\n",
    "    return sentence\n",
    "for tag in tags:\n",
    "    my_dict[tag] = []\n",
    "    questionset = data[data['tag'] == tag]\n",
    "    for q in questionset[\"qa\"].values:\n",
    "        sentence = getKeyWords(q)\n",
    "        my_dict[tag].append(sentence)\n",
    "    for intent in intents['intents']:\n",
    "        if intent['tag']==tag:\n",
    "            intent['patterns']= my_dict[tag]\n",
    "    print(\"===\"*5+\" \"+tag+\" \"+\"===\"*5)\n",
    "with open(\"./intents-generated.json\",\"w\") as f:\n",
    "     json.dump(intents,f)"
   ]
  },
  {
   "cell_type": "code",
   "execution_count": null,
   "id": "6b54ec59",
   "metadata": {},
   "outputs": [],
   "source": []
  }
 ],
 "metadata": {
  "kernelspec": {
   "display_name": "Python 3 (ipykernel)",
   "language": "python",
   "name": "python3"
  },
  "language_info": {
   "codemirror_mode": {
    "name": "ipython",
    "version": 3
   },
   "file_extension": ".py",
   "mimetype": "text/x-python",
   "name": "python",
   "nbconvert_exporter": "python",
   "pygments_lexer": "ipython3",
   "version": "3.7.6"
  }
 },
 "nbformat": 4,
 "nbformat_minor": 5
}
